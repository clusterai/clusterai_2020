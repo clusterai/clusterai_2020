{
 "cells": [
  {
   "cell_type": "markdown",
   "metadata": {},
   "source": [
    "# ClusterAI 2020\n",
    "# Ciencia de Datos - Ingeniería Industrial - UTN BA\n",
    "# clase_12 (parte 2): Conectando Python con SQL\n",
    "### Elaborado por: Agustin Velazquez"
   ]
  },
  {
   "cell_type": "markdown",
   "metadata": {},
   "source": [
    "# IMPORT"
   ]
  },
  {
   "cell_type": "code",
   "execution_count": 32,
   "metadata": {},
   "outputs": [],
   "source": [
    "import sqlite3\n",
    "import os\n",
    "import pandas as pd\n",
    "import csv"
   ]
  },
  {
   "cell_type": "markdown",
   "metadata": {},
   "source": [
    "Cambiamos el directorio al cual sea de nuestra conveniencia para que nuestra DB se guarde en esa carpeta"
   ]
  },
  {
   "cell_type": "code",
   "execution_count": 40,
   "metadata": {},
   "outputs": [
    {
     "data": {
      "text/plain": [
       "'C:\\\\Users\\\\avelazquez\\\\Documents\\\\ClusterAI\\\\Clase Base de Datos'"
      ]
     },
     "execution_count": 40,
     "metadata": {},
     "output_type": "execute_result"
    }
   ],
   "source": [
    "cwd = os.getcwd()\n",
    "cwd"
   ]
  },
  {
   "cell_type": "code",
   "execution_count": 41,
   "metadata": {},
   "outputs": [],
   "source": [
    "os.chdir(r'C:\\Users\\avelazquez\\Documents\\ClusterAI\\Clase Base de Datos')"
   ]
  },
  {
   "cell_type": "markdown",
   "metadata": {},
   "source": [
    "# CARGA DE DATOS"
   ]
  },
  {
   "cell_type": "code",
   "execution_count": 4,
   "metadata": {},
   "outputs": [],
   "source": [
    "conn = sqlite3.connect('autosdb.sqlite')\n",
    "cur = conn.cursor()"
   ]
  },
  {
   "cell_type": "code",
   "execution_count": 5,
   "metadata": {},
   "outputs": [
    {
     "data": {
      "text/plain": [
       "<sqlite3.Cursor at 0xde05720>"
      ]
     },
     "execution_count": 5,
     "metadata": {},
     "output_type": "execute_result"
    }
   ],
   "source": [
    "cur.execute('DROP TABLE IF EXISTS alquila')"
   ]
  },
  {
   "cell_type": "code",
   "execution_count": 6,
   "metadata": {},
   "outputs": [
    {
     "data": {
      "text/plain": [
       "<sqlite3.Cursor at 0xde05720>"
      ]
     },
     "execution_count": 6,
     "metadata": {},
     "output_type": "execute_result"
    }
   ],
   "source": [
    "cur.execute('''\n",
    "CREATE TABLE alquila (dni INTEGER, patente TEXT, fechar DATE, fechad DATE, ciudad TEXT)''')"
   ]
  },
  {
   "cell_type": "code",
   "execution_count": 7,
   "metadata": {},
   "outputs": [
    {
     "data": {
      "text/plain": [
       "<sqlite3.Cursor at 0xde05720>"
      ]
     },
     "execution_count": 7,
     "metadata": {},
     "output_type": "execute_result"
    }
   ],
   "source": [
    "cur.execute('DROP TABLE IF EXISTS auto')\n",
    "cur.execute('''\n",
    "CREATE TABLE auto (patente TEXT, marca TEXT, modelo DATE, color TEXT)''')"
   ]
  },
  {
   "cell_type": "code",
   "execution_count": 9,
   "metadata": {},
   "outputs": [
    {
     "data": {
      "text/plain": [
       "<sqlite3.Cursor at 0xde05720>"
      ]
     },
     "execution_count": 9,
     "metadata": {},
     "output_type": "execute_result"
    }
   ],
   "source": [
    "cur.execute('DROP TABLE IF EXISTS cliente')"
   ]
  },
  {
   "cell_type": "code",
   "execution_count": 10,
   "metadata": {},
   "outputs": [],
   "source": [
    "# cliente.csv la vamos a subir directamente usando DB browser y SQL Lite\n",
    "# 1. Vamos a open DB y buscamos el archivo autosdb.slite\n",
    "# 2. Vamos a execute SQL y de la misma manera que las tablas anteriores hacemos primero un DROP y luego CREATE \n",
    "# de la tabla cliente"
   ]
  },
  {
   "cell_type": "markdown",
   "metadata": {},
   "source": [
    "Una vez creadas las tablas vamos a popularlas "
   ]
  },
  {
   "cell_type": "code",
   "execution_count": 12,
   "metadata": {},
   "outputs": [],
   "source": [
    "fname_alquila = r'C:\\Users\\avelazquez\\Documents\\ClusterAI\\Clase Base de Datos\\Data\\alquila.csv'\n",
    "fh_alquila = open(fname_alquila)"
   ]
  },
  {
   "cell_type": "code",
   "execution_count": 13,
   "metadata": {},
   "outputs": [],
   "source": [
    "for idx,line in enumerate(fh_alquila): \n",
    "    if idx != 0:\n",
    "        row = cur.fetchone()\n",
    "        dni = line.split(';')[0]\n",
    "        patente = line.split(';')[1]\n",
    "        fechar = line.split(';')[2]\n",
    "        fechad = line.split(';')[3]\n",
    "        ciudad = line.split(';')[4]\n",
    "        if row is None:\n",
    "            cur.execute(\"INSERT INTO alquila VALUES (?, ?, ?, ?, ?)\", (dni, patente, fechar, fechad, ciudad))\n",
    "    else:\n",
    "        continue"
   ]
  },
  {
   "cell_type": "code",
   "execution_count": 14,
   "metadata": {},
   "outputs": [
    {
     "name": "stdout",
     "output_type": "stream",
     "text": [
      "[(44, 'vip195', '2015-03-15 09:31:03', '2015-03-21 15:04:16', 'BARILOCHE\\n'), (35, 'fyi654', '2015-03-10 08:00:00', '2015-03-15 17:24:11', 'CABA\\n'), (32, 'fyi654', '2015-01-14 16:20:09', '2015-01-20 10:14:15', 'CABA\\n'), (32, 'aka654', '2015-02-14 08:25:55', '2015-02-18 11:00:05', 'VIEDMA\\n'), (27, 'omg987', '2015-03-20 12:14:43', '2015-03-24 14:12:00', 'ROSARIO\\n'), (35, 'lol123', '2015-02-02 09:05:22', '2015-02-12 09:10:00', 'MENDOZA\\n'), (32, 'lol123', '2015-01-05 10:15:22', '2015-01-05 18:21:33', 'CORDOBA\\n'), (27, 'fyi654', '2015-02-04 10:16:06', '2015-02-04 16:24:22', 'CABA\\n'), (27, 'lol123', '2015-07-04 09:23:58', '2015-07-08 09:34:17', 'CORDOBA\\n'), (27, 'fyi654', '2015-02-10 11:30:30', '2015-02-11 11:29:00', 'CABA\\n'), (12, 'mib111', '2015-04-08 08:10:34', '2015-04-10 08:09:10', 'USHUAIA\\n'), (12, 'mib111', '2015-04-15 19:20:21', '2015-04-16 11:12:13', 'USHUAIA\\n'), (12, 'mib111', '2015-04-20 15:22:23', '2015-04-24 14:52:25', 'USHUAIA\\n')]\n"
     ]
    }
   ],
   "source": [
    "cur.execute(\"SELECT * FROM alquila\")\n",
    "print(cur.fetchall())"
   ]
  },
  {
   "cell_type": "code",
   "execution_count": 15,
   "metadata": {},
   "outputs": [],
   "source": [
    "conn.commit()"
   ]
  },
  {
   "cell_type": "code",
   "execution_count": 16,
   "metadata": {},
   "outputs": [],
   "source": [
    "fname_auto = r'C:\\Users\\avelazquez\\Documents\\ClusterAI\\Clase Base de Datos\\Data\\auto.csv'"
   ]
  },
  {
   "cell_type": "code",
   "execution_count": 17,
   "metadata": {},
   "outputs": [
    {
     "name": "stdout",
     "output_type": "stream",
     "text": [
      "[('aka654', 'VW', 'Suran', 'beige'), ('fyi654', 'Chevrolet', 'Corsa', 'gris'), ('lol123', 'Honda', 'Civic', 'beige'), ('mib111', 'Honda', 'Civic', 'azul'), ('omg987', 'Ford', 'Fiesta', 'azul'), ('vip195', 'VW', 'Vento', 'gris')]\n"
     ]
    }
   ],
   "source": [
    "with open(fname_auto, newline='') as f:\n",
    "    reader = csv.reader(f,delimiter = ';')\n",
    "    next(reader)\n",
    "    data = [tuple(row) for row in reader]\n",
    "\n",
    "print(data)"
   ]
  },
  {
   "cell_type": "code",
   "execution_count": 18,
   "metadata": {},
   "outputs": [
    {
     "data": {
      "text/plain": [
       "<sqlite3.Cursor at 0xde05720>"
      ]
     },
     "execution_count": 18,
     "metadata": {},
     "output_type": "execute_result"
    }
   ],
   "source": [
    "cur.executemany('INSERT INTO auto (patente,marca,modelo,color) VALUES (?,?,?,?)', data)"
   ]
  },
  {
   "cell_type": "code",
   "execution_count": 19,
   "metadata": {},
   "outputs": [
    {
     "name": "stdout",
     "output_type": "stream",
     "text": [
      "('aka654', 'VW', 'Suran', 'beige')\n",
      "('fyi654', 'Chevrolet', 'Corsa', 'gris')\n",
      "('lol123', 'Honda', 'Civic', 'beige')\n",
      "('mib111', 'Honda', 'Civic', 'azul')\n",
      "('omg987', 'Ford', 'Fiesta', 'azul')\n",
      "('vip195', 'VW', 'Vento', 'gris')\n"
     ]
    }
   ],
   "source": [
    "sqlstr = \"SELECT * FROM auto\"\n",
    "for row in cur.execute(sqlstr):\n",
    "    print(str(row))"
   ]
  },
  {
   "cell_type": "code",
   "execution_count": 26,
   "metadata": {},
   "outputs": [],
   "source": [
    "conn.commit()"
   ]
  },
  {
   "cell_type": "code",
   "execution_count": 27,
   "metadata": {},
   "outputs": [
    {
     "name": "stdout",
     "output_type": "stream",
     "text": [
      "[('12', 'Greta Baez', 'USHUAIA'), ('27', 'Santiago Lopez', 'LA PLATA'), ('32', 'Manuel Ruiz', 'CABA'), ('35', 'Luciana Martinez', 'ROSARIO'), ('44', 'Anabella Luzuriaga', 'USHUAIA'), ('76', 'Jose Pelman', 'ROSARIO')]\n",
      "(12, 'Greta Baez', 'USHUAIA')\n",
      "(27, 'Santiago Lopez', 'LA PLATA')\n",
      "(32, 'Manuel Ruiz', 'CABA')\n",
      "(35, 'Luciana Martinez', 'ROSARIO')\n",
      "(44, 'Anabella Luzuriaga', 'USHUAIA')\n",
      "(76, 'Jose Pelman', 'ROSARIO')\n"
     ]
    }
   ],
   "source": [
    "#Ahora que ya sabemos como hacerlo cargamos el ultimo archivo\n",
    "fname_cliente = r'C:\\Users\\avelazquez\\Documents\\ClusterAI\\Clase Base de Datos\\Data\\cliente.csv'\n",
    "\n",
    "with open(fname_cliente, newline='') as f_cliente:\n",
    "    reader_cliente = csv.reader(f_cliente,delimiter = ';')\n",
    "    next(reader_cliente)\n",
    "    data_cliente = [tuple(row) for row in reader_cliente]\n",
    "print(data_cliente)\n",
    "    \n",
    "cur.executemany('INSERT INTO cliente VALUES (?,?,?)', data_cliente)\n",
    "\n",
    "sqlstr = \"SELECT * FROM cliente\"\n",
    "for row in cur.execute(sqlstr):\n",
    "    print(str(row))"
   ]
  },
  {
   "cell_type": "code",
   "execution_count": 28,
   "metadata": {},
   "outputs": [],
   "source": [
    "conn.commit()"
   ]
  },
  {
   "cell_type": "markdown",
   "metadata": {},
   "source": [
    "# EXTRACCION DE DATOS"
   ]
  },
  {
   "cell_type": "code",
   "execution_count": 38,
   "metadata": {},
   "outputs": [],
   "source": [
    "#Vamos a hacer un JOIN y traer solo la informacion que queremos\n",
    "sqlstr2 = ''' \n",
    "          SELECT \n",
    "          a.dni as dni_cliente,\n",
    "          a.patente,\n",
    "          au.marca,\n",
    "          au.modelo,\n",
    "          au.color,\n",
    "          a.fechar,\n",
    "          a.fechad,\n",
    "          a.ciudad as ciudad_alquiler,\n",
    "          c.nombre as nombre_cliente,\n",
    "          c.ciudad as ciudad_cliente\n",
    "          FROM alquila a  \n",
    "          LEFT JOIN cliente c on c.dni = a.dni \n",
    "          LEFT JOIN auto au on au.patente = a.patente \n",
    "          WHERE c.nombre LIKE \"%santiago%\" \n",
    "          '''  \n",
    "df = pd.read_sql(sqlstr2, conn)"
   ]
  },
  {
   "cell_type": "code",
   "execution_count": 39,
   "metadata": {},
   "outputs": [
    {
     "data": {
      "text/html": [
       "<div>\n",
       "<style scoped>\n",
       "    .dataframe tbody tr th:only-of-type {\n",
       "        vertical-align: middle;\n",
       "    }\n",
       "\n",
       "    .dataframe tbody tr th {\n",
       "        vertical-align: top;\n",
       "    }\n",
       "\n",
       "    .dataframe thead th {\n",
       "        text-align: right;\n",
       "    }\n",
       "</style>\n",
       "<table border=\"1\" class=\"dataframe\">\n",
       "  <thead>\n",
       "    <tr style=\"text-align: right;\">\n",
       "      <th></th>\n",
       "      <th>dni_cliente</th>\n",
       "      <th>patente</th>\n",
       "      <th>marca</th>\n",
       "      <th>modelo</th>\n",
       "      <th>color</th>\n",
       "      <th>fechar</th>\n",
       "      <th>fechad</th>\n",
       "      <th>ciudad_alquiler</th>\n",
       "      <th>nombre_cliente</th>\n",
       "      <th>ciudad_cliente</th>\n",
       "    </tr>\n",
       "  </thead>\n",
       "  <tbody>\n",
       "    <tr>\n",
       "      <th>0</th>\n",
       "      <td>27</td>\n",
       "      <td>omg987</td>\n",
       "      <td>Ford</td>\n",
       "      <td>Fiesta</td>\n",
       "      <td>azul</td>\n",
       "      <td>2015-03-20 12:14:43</td>\n",
       "      <td>2015-03-24 14:12:00</td>\n",
       "      <td>ROSARIO\\n</td>\n",
       "      <td>Santiago Lopez</td>\n",
       "      <td>LA PLATA</td>\n",
       "    </tr>\n",
       "    <tr>\n",
       "      <th>1</th>\n",
       "      <td>27</td>\n",
       "      <td>fyi654</td>\n",
       "      <td>Chevrolet</td>\n",
       "      <td>Corsa</td>\n",
       "      <td>gris</td>\n",
       "      <td>2015-02-04 10:16:06</td>\n",
       "      <td>2015-02-04 16:24:22</td>\n",
       "      <td>CABA\\n</td>\n",
       "      <td>Santiago Lopez</td>\n",
       "      <td>LA PLATA</td>\n",
       "    </tr>\n",
       "    <tr>\n",
       "      <th>2</th>\n",
       "      <td>27</td>\n",
       "      <td>lol123</td>\n",
       "      <td>Honda</td>\n",
       "      <td>Civic</td>\n",
       "      <td>beige</td>\n",
       "      <td>2015-07-04 09:23:58</td>\n",
       "      <td>2015-07-08 09:34:17</td>\n",
       "      <td>CORDOBA\\n</td>\n",
       "      <td>Santiago Lopez</td>\n",
       "      <td>LA PLATA</td>\n",
       "    </tr>\n",
       "    <tr>\n",
       "      <th>3</th>\n",
       "      <td>27</td>\n",
       "      <td>fyi654</td>\n",
       "      <td>Chevrolet</td>\n",
       "      <td>Corsa</td>\n",
       "      <td>gris</td>\n",
       "      <td>2015-02-10 11:30:30</td>\n",
       "      <td>2015-02-11 11:29:00</td>\n",
       "      <td>CABA\\n</td>\n",
       "      <td>Santiago Lopez</td>\n",
       "      <td>LA PLATA</td>\n",
       "    </tr>\n",
       "  </tbody>\n",
       "</table>\n",
       "</div>"
      ],
      "text/plain": [
       "   dni_cliente patente      marca  modelo  color               fechar  \\\n",
       "0           27  omg987       Ford  Fiesta   azul  2015-03-20 12:14:43   \n",
       "1           27  fyi654  Chevrolet   Corsa   gris  2015-02-04 10:16:06   \n",
       "2           27  lol123      Honda   Civic  beige  2015-07-04 09:23:58   \n",
       "3           27  fyi654  Chevrolet   Corsa   gris  2015-02-10 11:30:30   \n",
       "\n",
       "                fechad ciudad_alquiler  nombre_cliente ciudad_cliente  \n",
       "0  2015-03-24 14:12:00       ROSARIO\\n  Santiago Lopez       LA PLATA  \n",
       "1  2015-02-04 16:24:22          CABA\\n  Santiago Lopez       LA PLATA  \n",
       "2  2015-07-08 09:34:17       CORDOBA\\n  Santiago Lopez       LA PLATA  \n",
       "3  2015-02-11 11:29:00          CABA\\n  Santiago Lopez       LA PLATA  "
      ]
     },
     "execution_count": 39,
     "metadata": {},
     "output_type": "execute_result"
    }
   ],
   "source": [
    "df.head()"
   ]
  },
  {
   "cell_type": "code",
   "execution_count": null,
   "metadata": {},
   "outputs": [],
   "source": [
    "cur.close()"
   ]
  }
 ],
 "metadata": {
  "kernelspec": {
   "display_name": "Python 3",
   "language": "python",
   "name": "python3"
  },
  "language_info": {
   "codemirror_mode": {
    "name": "ipython",
    "version": 3
   },
   "file_extension": ".py",
   "mimetype": "text/x-python",
   "name": "python",
   "nbconvert_exporter": "python",
   "pygments_lexer": "ipython3",
   "version": "3.7.3"
  }
 },
 "nbformat": 4,
 "nbformat_minor": 2
}
